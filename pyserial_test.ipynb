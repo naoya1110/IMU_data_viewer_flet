{
 "cells": [
  {
   "cell_type": "code",
   "execution_count": 1,
   "metadata": {},
   "outputs": [
    {
     "data": {
      "text/plain": [
       "[<serial.tools.list_ports_common.ListPortInfo at 0x1c44f64b7c0>,\n",
       " <serial.tools.list_ports_common.ListPortInfo at 0x1c44f649330>,\n",
       " <serial.tools.list_ports_common.ListPortInfo at 0x1c44f648850>]"
      ]
     },
     "execution_count": 1,
     "metadata": {},
     "output_type": "execute_result"
    }
   ],
   "source": [
    "from serial.tools import list_ports\n",
    "\n",
    "list_ports.comports()"
   ]
  },
  {
   "cell_type": "code",
   "execution_count": 2,
   "metadata": {},
   "outputs": [
    {
     "data": {
      "text/plain": [
       "['COM4', 'COM3', 'COM5']"
      ]
     },
     "execution_count": 2,
     "metadata": {},
     "output_type": "execute_result"
    }
   ],
   "source": [
    " ports = list_ports.comports()\n",
    " devices = [info.device for info in ports]\n",
    " devices"
   ]
  },
  {
   "cell_type": "code",
   "execution_count": null,
   "metadata": {},
   "outputs": [],
   "source": []
  }
 ],
 "metadata": {
  "kernelspec": {
   "display_name": "venv202201",
   "language": "python",
   "name": "python3"
  },
  "language_info": {
   "codemirror_mode": {
    "name": "ipython",
    "version": 3
   },
   "file_extension": ".py",
   "mimetype": "text/x-python",
   "name": "python",
   "nbconvert_exporter": "python",
   "pygments_lexer": "ipython3",
   "version": "3.10.6"
  },
  "orig_nbformat": 4,
  "vscode": {
   "interpreter": {
    "hash": "5188437cffe0987d5615d61526644396c7de053165de44dfe06aff5b797d41e3"
   }
  }
 },
 "nbformat": 4,
 "nbformat_minor": 2
}
